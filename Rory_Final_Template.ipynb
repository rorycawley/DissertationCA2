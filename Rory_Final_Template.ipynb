{
  "nbformat": 4,
  "nbformat_minor": 0,
  "metadata": {
    "colab": {
      "name": "Rory Final Template.ipynb",
      "version": "0.3.2",
      "provenance": []
    },
    "kernelspec": {
      "name": "python3",
      "display_name": "Python 3"
    },
    "accelerator": "GPU"
  },
  "cells": [
    {
      "cell_type": "markdown",
      "metadata": {
        "id": "view-in-github",
        "colab_type": "text"
      },
      "source": [
        "[View in Colaboratory](https://colab.research.google.com/github/rorycawley/DissertationCA2/blob/master/Rory_Final_Template.ipynb)"
      ]
    },
    {
      "metadata": {
        "id": "gi7laFjlllU1",
        "colab_type": "text"
      },
      "cell_type": "markdown",
      "source": [
        "**Import numpy and pandas (to work with the csv file) and matplotlib for visualisation**"
      ]
    },
    {
      "metadata": {
        "id": "42tKQYarlakQ",
        "colab_type": "code",
        "colab": {}
      },
      "cell_type": "code",
      "source": [
        "import numpy as np\n",
        "import pandas as pd\n",
        "import matplotlib.pyplot as plt\n",
        "%matplotlib inline"
      ],
      "execution_count": 0,
      "outputs": []
    },
    {
      "metadata": {
        "id": "RLtmK-eBoF-h",
        "colab_type": "text"
      },
      "cell_type": "markdown",
      "source": [
        "**Set column names for the training and test data**"
      ]
    },
    {
      "metadata": {
        "id": "tT3vxQ1-nq7v",
        "colab_type": "code",
        "colab": {
          "base_uri": "https://localhost:8080/",
          "height": 459
        },
        "outputId": "6d18ef24-478b-4861-bb84-60cdb2cf98a7"
      },
      "cell_type": "code",
      "source": [
        "id_col = 'unit_number'\n",
        "time_col = 'time'\n",
        "feature_cols = [ 'op_setting_1', 'op_setting_2', 'op_setting_3'] + ['sensor_measurement_{}'.format(x) for x in range(1,22)]\n",
        "column_names = [id_col, time_col] + feature_cols\n",
        "column_names"
      ],
      "execution_count": 5,
      "outputs": [
        {
          "output_type": "execute_result",
          "data": {
            "text/plain": [
              "['unit_number',\n",
              " 'time',\n",
              " 'op_setting_1',\n",
              " 'op_setting_2',\n",
              " 'op_setting_3',\n",
              " 'sensor_measurement_1',\n",
              " 'sensor_measurement_2',\n",
              " 'sensor_measurement_3',\n",
              " 'sensor_measurement_4',\n",
              " 'sensor_measurement_5',\n",
              " 'sensor_measurement_6',\n",
              " 'sensor_measurement_7',\n",
              " 'sensor_measurement_8',\n",
              " 'sensor_measurement_9',\n",
              " 'sensor_measurement_10',\n",
              " 'sensor_measurement_11',\n",
              " 'sensor_measurement_12',\n",
              " 'sensor_measurement_13',\n",
              " 'sensor_measurement_14',\n",
              " 'sensor_measurement_15',\n",
              " 'sensor_measurement_16',\n",
              " 'sensor_measurement_17',\n",
              " 'sensor_measurement_18',\n",
              " 'sensor_measurement_19',\n",
              " 'sensor_measurement_20',\n",
              " 'sensor_measurement_21']"
            ]
          },
          "metadata": {
            "tags": []
          },
          "execution_count": 5
        }
      ]
    },
    {
      "metadata": {
        "id": "gknj15JQmYmU",
        "colab_type": "text"
      },
      "cell_type": "markdown",
      "source": [
        "**Use pandas to read in the csv files**"
      ]
    },
    {
      "metadata": {
        "id": "7NjHFB83md_C",
        "colab_type": "code",
        "colab": {}
      },
      "cell_type": "code",
      "source": [
        "# read training data\n",
        "train_orig = pd.read_csv('https://raw.githubusercontent.com/daynebatten/keras-wtte-rnn/master/train.csv', header=None, names=column_names)\n",
        "\n",
        "# read test data\n",
        "test_x_orig = pd.read_csv('https://raw.githubusercontent.com/daynebatten/keras-wtte-rnn/master/test_x.csv', header=None, names=column_names)\n",
        "\n",
        "# read ground truth data\n",
        "test_y_orig = pd.read_csv('https://raw.githubusercontent.com/daynebatten/keras-wtte-rnn/master/test_y.csv', header=None, names=['T'])"
      ],
      "execution_count": 0,
      "outputs": []
    }
  ]
}